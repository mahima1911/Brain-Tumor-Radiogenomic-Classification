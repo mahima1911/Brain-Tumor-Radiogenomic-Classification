{
 "cells": [
  {
   "cell_type": "code",
   "execution_count": 1,
   "id": "922a28fb",
   "metadata": {
    "execution": {
     "iopub.execute_input": "2021-10-09T17:57:33.016357Z",
     "iopub.status.busy": "2021-10-09T17:57:33.015665Z",
     "iopub.status.idle": "2021-10-09T17:57:35.643201Z",
     "shell.execute_reply": "2021-10-09T17:57:35.642543Z",
     "shell.execute_reply.started": "2021-10-09T17:44:25.825015Z"
    },
    "papermill": {
     "duration": 2.662702,
     "end_time": "2021-10-09T17:57:35.643368",
     "exception": false,
     "start_time": "2021-10-09T17:57:32.980666",
     "status": "completed"
    },
    "tags": []
   },
   "outputs": [],
   "source": [
    "import binascii\n",
    "import os\n",
    "import pydicom\n",
    "import random\n",
    "import sys\n",
    "import torch\n",
    "\n",
    "import matplotlib.pyplot as plt\n",
    "import numpy as np\n",
    "import pandas as pd\n",
    "import torchvision.transforms as transforms\n",
    "\n",
    "from fastai.vision.all import *\n",
    "from PIL import Image\n",
    "from pydicom.pixel_data_handlers.util import apply_voi_lut\n",
    "from sklearn.metrics import accuracy_score\n",
    "from sklearn.model_selection import train_test_split\n",
    "from torch import  optim\n",
    "from torch.nn import BCEWithLogitsLoss, Conv2d, Flatten, Linear, MaxPool2d, Module, Sequential, Sigmoid\n",
    "from torch.nn.functional import log_softmax\n",
    "from torch.nn.init import xavier_uniform_\n",
    "from torch.utils.data import DataLoader, Dataset\n",
    "from tqdm import tqdm"
   ]
  },
  {
   "cell_type": "code",
   "execution_count": 2,
   "id": "818a95a4",
   "metadata": {
    "execution": {
     "iopub.execute_input": "2021-10-09T17:57:35.688996Z",
     "iopub.status.busy": "2021-10-09T17:57:35.688467Z",
     "iopub.status.idle": "2021-10-09T17:57:35.706485Z",
     "shell.execute_reply": "2021-10-09T17:57:35.706033Z",
     "shell.execute_reply.started": "2021-10-09T17:44:27.024445Z"
    },
    "papermill": {
     "duration": 0.042149,
     "end_time": "2021-10-09T17:57:35.706598",
     "exception": false,
     "start_time": "2021-10-09T17:57:35.664449",
     "status": "completed"
    },
    "tags": []
   },
   "outputs": [],
   "source": [
    "df = pd.read_csv('../input/rsna-miccai-brain-tumor-radiogenomic-classification/train_labels.csv', dtype=object)\n",
    "df = df[~df.BraTS21ID.isin([\"00109\", \"00123\", \"00709\"])]"
   ]
  },
  {
   "cell_type": "code",
   "execution_count": 3,
   "id": "3fd3d8f4",
   "metadata": {
    "execution": {
     "iopub.execute_input": "2021-10-09T17:57:35.781880Z",
     "iopub.status.busy": "2021-10-09T17:57:35.781039Z",
     "iopub.status.idle": "2021-10-09T17:57:35.784698Z",
     "shell.execute_reply": "2021-10-09T17:57:35.785288Z",
     "shell.execute_reply.started": "2021-10-09T17:44:27.041015Z"
    },
    "papermill": {
     "duration": 0.04812,
     "end_time": "2021-10-09T17:57:35.785489",
     "exception": false,
     "start_time": "2021-10-09T17:57:35.737369",
     "status": "completed"
    },
    "tags": []
   },
   "outputs": [],
   "source": [
    "#https://stackoverflow.com/a/4836734/8245487\n",
    "def natural_sort(l): \n",
    "    convert = lambda text: int(text) if text.isdigit() else text.lower()\n",
    "    alphanum_key = lambda key: [convert(c) for c in re.split('([0-9]+)', key)]\n",
    "    return sorted(l, key=alphanum_key)"
   ]
  },
  {
   "cell_type": "code",
   "execution_count": 4,
   "id": "f45ae476",
   "metadata": {
    "execution": {
     "iopub.execute_input": "2021-10-09T17:57:35.841563Z",
     "iopub.status.busy": "2021-10-09T17:57:35.840312Z",
     "iopub.status.idle": "2021-10-09T17:57:35.842548Z",
     "shell.execute_reply": "2021-10-09T17:57:35.842989Z",
     "shell.execute_reply.started": "2021-10-09T17:44:27.050110Z"
    },
    "papermill": {
     "duration": 0.02726,
     "end_time": "2021-10-09T17:57:35.843122",
     "exception": false,
     "start_time": "2021-10-09T17:57:35.815862",
     "status": "completed"
    },
    "tags": []
   },
   "outputs": [],
   "source": [
    "INPUT = '../input/rsna-miccai-brain-tumor-radiogenomic-classification'\n",
    "\n",
    "if not os.path.exists('./train'):\n",
    "    os.makedirs('./train')\n",
    "    \n",
    "if not os.path.exists('./test'):\n",
    "    os.makedirs('./test')"
   ]
  },
  {
   "cell_type": "code",
   "execution_count": 5,
   "id": "33512bef",
   "metadata": {
    "execution": {
     "iopub.execute_input": "2021-10-09T17:57:35.890234Z",
     "iopub.status.busy": "2021-10-09T17:57:35.889490Z",
     "iopub.status.idle": "2021-10-09T17:57:35.892146Z",
     "shell.execute_reply": "2021-10-09T17:57:35.891739Z",
     "shell.execute_reply.started": "2021-10-09T17:44:27.060273Z"
    },
    "papermill": {
     "duration": 0.028819,
     "end_time": "2021-10-09T17:57:35.892252",
     "exception": false,
     "start_time": "2021-10-09T17:57:35.863433",
     "status": "completed"
    },
    "tags": []
   },
   "outputs": [],
   "source": [
    "def process_dicom(path, outpath):\n",
    "    dicom = pydicom.read_file(path)\n",
    "    data = apply_voi_lut(dicom.pixel_array, dicom)\n",
    "    if dicom.PhotometricInterpretation == \"MONOCHROME1\":\n",
    "        data = np.amax(data) - data\n",
    "    data = data - np.min(data)\n",
    "    data = data / np.max(data)\n",
    "    data = (data * 255).astype(np.uint8)\n",
    "    \n",
    "    height = len(data)\n",
    "    width = len(data[0])\n",
    "    \n",
    "    pixels_out = []\n",
    "    for row in data:\n",
    "        pixels_out.extend(row)\n",
    "    assert(len(pixels_out) == height * width)\n",
    "    \n",
    "    image_out = Image.new('L', (width, height))\n",
    "    image_out.putdata(pixels_out)\n",
    "    image_out.save(outpath)"
   ]
  },
  {
   "cell_type": "code",
   "execution_count": 6,
   "id": "83d688d9",
   "metadata": {
    "execution": {
     "iopub.execute_input": "2021-10-09T17:57:35.939485Z",
     "iopub.status.busy": "2021-10-09T17:57:35.938783Z",
     "iopub.status.idle": "2021-10-09T17:57:35.941562Z",
     "shell.execute_reply": "2021-10-09T17:57:35.941145Z",
     "shell.execute_reply.started": "2021-10-09T17:44:27.072012Z"
    },
    "papermill": {
     "duration": 0.028902,
     "end_time": "2021-10-09T17:57:35.941665",
     "exception": false,
     "start_time": "2021-10-09T17:57:35.912763",
     "status": "completed"
    },
    "tags": []
   },
   "outputs": [],
   "source": [
    "def get_dicom_files(input_dir, dataset='train'):\n",
    "    for subdir, dirs, files in os.walk(f\"{input_dir}/{dataset}\"):\n",
    "        if len(files) == 0:\n",
    "            continue\n",
    "        filename = natural_sort(files)[len(files)//2] #take middle most image -- FLAIR DCM file per training item.\n",
    "        filepath = os.path.join(subdir, filename)\n",
    "        \n",
    "        if filepath.endswith(\".dcm\") and \"FLAIR\" in filepath:\n",
    "            cur_id = subdir.split('/')[-2]\n",
    "            outpath = os.path.join(f'./{dataset}',f'{cur_id}.png')\n",
    "            \n",
    "            process_dicom(filepath, outpath)"
   ]
  },
  {
   "cell_type": "code",
   "execution_count": 7,
   "id": "7b18184b",
   "metadata": {
    "execution": {
     "iopub.execute_input": "2021-10-09T17:57:35.984515Z",
     "iopub.status.busy": "2021-10-09T17:57:35.983990Z",
     "iopub.status.idle": "2021-10-09T17:59:13.499477Z",
     "shell.execute_reply": "2021-10-09T17:59:13.498555Z",
     "shell.execute_reply.started": "2021-10-09T17:44:27.086176Z"
    },
    "papermill": {
     "duration": 97.537981,
     "end_time": "2021-10-09T17:59:13.499634",
     "exception": false,
     "start_time": "2021-10-09T17:57:35.961653",
     "status": "completed"
    },
    "tags": []
   },
   "outputs": [
    {
     "name": "stderr",
     "output_type": "stream",
     "text": [
      "/opt/conda/lib/python3.7/site-packages/ipykernel_launcher.py:7: RuntimeWarning: invalid value encountered in true_divide\n",
      "  import sys\n"
     ]
    }
   ],
   "source": [
    "get_dicom_files(INPUT, 'train')\n",
    "get_dicom_files(INPUT, 'test')"
   ]
  },
  {
   "cell_type": "code",
   "execution_count": 8,
   "id": "c0ca9207",
   "metadata": {
    "execution": {
     "iopub.execute_input": "2021-10-09T17:59:13.549071Z",
     "iopub.status.busy": "2021-10-09T17:59:13.547786Z",
     "iopub.status.idle": "2021-10-09T17:59:13.550197Z",
     "shell.execute_reply": "2021-10-09T17:59:13.550595Z",
     "shell.execute_reply.started": "2021-10-09T17:45:16.388913Z"
    },
    "papermill": {
     "duration": 0.030388,
     "end_time": "2021-10-09T17:59:13.550720",
     "exception": false,
     "start_time": "2021-10-09T17:59:13.520332",
     "status": "completed"
    },
    "tags": []
   },
   "outputs": [],
   "source": [
    "def create_dataframe(df, csv_path, data_type = 'train', directory_name = 'FLAIR'):\n",
    "#     path = './' + data_type + '/' + directory_name + '/'\n",
    "    path = './' + data_type + '/'\n",
    "    dataframe = pd.DataFrame()\n",
    "    dataframe['BraTS21ID'] = df['BraTS21ID']\n",
    "    dataframe['image_id'] = df['BraTS21ID']\n",
    "    if data_type == 'test':\n",
    "        dataframe['image'] = [path + '0' * (5 - len(str(idx))) + str(idx) +'.png' for idx in df['BraTS21ID']]\n",
    "        dataframe['target'] = [0.5 for idx in df['BraTS21ID']]\n",
    "    else:\n",
    "        dataframe['MGMT_value'] = df['MGMT_value']\n",
    "        dataframe['image'] = [path + str(idx) +'.png' for idx in df['BraTS21ID']]\n",
    "        dataframe['target'] = df['MGMT_value']\n",
    "    dataframe.to_csv(csv_path, index = False)"
   ]
  },
  {
   "cell_type": "code",
   "execution_count": 9,
   "id": "ceb9d31b",
   "metadata": {
    "execution": {
     "iopub.execute_input": "2021-10-09T17:59:13.599211Z",
     "iopub.status.busy": "2021-10-09T17:59:13.598666Z",
     "iopub.status.idle": "2021-10-09T17:59:13.606681Z",
     "shell.execute_reply": "2021-10-09T17:59:13.606239Z",
     "shell.execute_reply.started": "2021-10-09T17:45:16.403275Z"
    },
    "papermill": {
     "duration": 0.036439,
     "end_time": "2021-10-09T17:59:13.606787",
     "exception": false,
     "start_time": "2021-10-09T17:59:13.570348",
     "status": "completed"
    },
    "tags": []
   },
   "outputs": [],
   "source": [
    "csv_path = './train.csv'\n",
    "create_dataframe(df, csv_path)"
   ]
  },
  {
   "cell_type": "code",
   "execution_count": 10,
   "id": "5d611240",
   "metadata": {
    "execution": {
     "iopub.execute_input": "2021-10-09T17:59:13.653384Z",
     "iopub.status.busy": "2021-10-09T17:59:13.652147Z",
     "iopub.status.idle": "2021-10-09T17:59:13.654445Z",
     "shell.execute_reply": "2021-10-09T17:59:13.654873Z",
     "shell.execute_reply.started": "2021-10-09T17:45:16.423194Z"
    },
    "papermill": {
     "duration": 0.028405,
     "end_time": "2021-10-09T17:59:13.655000",
     "exception": false,
     "start_time": "2021-10-09T17:59:13.626595",
     "status": "completed"
    },
    "tags": []
   },
   "outputs": [],
   "source": [
    "class BrainTumorDataset(Dataset):\n",
    "    def __init__(self, csv_path):\n",
    "        self.dataframe = pd.read_csv(csv_path)\n",
    "        self.transform = transforms.Compose([transforms.ToTensor()])\n",
    "    def __len__(self):\n",
    "        return self.dataframe.shape[0]\n",
    "    def __getitem__(self, idx):\n",
    "        image = Image.open(self.dataframe.iloc[idx]['image'])\n",
    "        image = image.resize((224, 224))\n",
    "        image = self.transform(image)\n",
    "        label = torch.FloatTensor([self.dataframe.iloc[idx]['target']])\n",
    "        return image, label"
   ]
  },
  {
   "cell_type": "code",
   "execution_count": 11,
   "id": "086c162e",
   "metadata": {
    "execution": {
     "iopub.execute_input": "2021-10-09T17:59:13.701043Z",
     "iopub.status.busy": "2021-10-09T17:59:13.700556Z",
     "iopub.status.idle": "2021-10-09T17:59:13.703838Z",
     "shell.execute_reply": "2021-10-09T17:59:13.704250Z",
     "shell.execute_reply.started": "2021-10-09T17:45:16.440200Z"
    },
    "papermill": {
     "duration": 0.029651,
     "end_time": "2021-10-09T17:59:13.704373",
     "exception": false,
     "start_time": "2021-10-09T17:59:13.674722",
     "status": "completed"
    },
    "tags": []
   },
   "outputs": [],
   "source": [
    "class Model(Module):\n",
    "    def __init__(self):\n",
    "        super().__init__()\n",
    "        self.conv_layers = Sequential(Conv2d(1, 4, kernel_size=5, stride=1),\n",
    "                                      MaxPool2d(kernel_size=2, stride=2),\n",
    "                                      Conv2d(4, 16, kernel_size=5, stride=1),\n",
    "                                      MaxPool2d(kernel_size=2, stride=2),\n",
    "                                      Conv2d(16, 32, kernel_size=5, stride=1),\n",
    "                                      MaxPool2d(kernel_size=2, stride=2),\n",
    "                                      Flatten())\n",
    "        \n",
    "        self.linear_layers = Sequential(Linear(18432, 1024),\n",
    "                                        Linear(1024, 64),\n",
    "                                        Linear(64, 1))\n",
    "        \n",
    "    def forward(self, x):\n",
    "        x = self.conv_layers(x)\n",
    "        output = self.linear_layers(x)\n",
    "        return output"
   ]
  },
  {
   "cell_type": "code",
   "execution_count": 12,
   "id": "d03bde2d",
   "metadata": {
    "execution": {
     "iopub.execute_input": "2021-10-09T17:59:13.748650Z",
     "iopub.status.busy": "2021-10-09T17:59:13.747904Z",
     "iopub.status.idle": "2021-10-09T17:59:13.750606Z",
     "shell.execute_reply": "2021-10-09T17:59:13.750206Z",
     "shell.execute_reply.started": "2021-10-09T17:54:22.905248Z"
    },
    "papermill": {
     "duration": 0.026756,
     "end_time": "2021-10-09T17:59:13.750711",
     "exception": false,
     "start_time": "2021-10-09T17:59:13.723955",
     "status": "completed"
    },
    "tags": []
   },
   "outputs": [],
   "source": [
    "batch_size = 64\n",
    "threshold = 0.5\n",
    "learning_rate = 1e-3\n",
    "flag_continue = False\n",
    "train_csv_path = './train.csv'\n",
    "checkpoint_load = './Checkpointv1.pt'\n",
    "checkpoint_path = './Checkpointv1.pt'\n",
    "start_epoch = 1\n",
    "end_epoch = 20"
   ]
  },
  {
   "cell_type": "code",
   "execution_count": 13,
   "id": "9dd25ecf",
   "metadata": {
    "execution": {
     "iopub.execute_input": "2021-10-09T17:59:13.795810Z",
     "iopub.status.busy": "2021-10-09T17:59:13.795259Z",
     "iopub.status.idle": "2021-10-09T17:59:13.967340Z",
     "shell.execute_reply": "2021-10-09T17:59:13.966850Z",
     "shell.execute_reply.started": "2021-10-09T17:54:23.479593Z"
    },
    "papermill": {
     "duration": 0.196323,
     "end_time": "2021-10-09T17:59:13.967475",
     "exception": false,
     "start_time": "2021-10-09T17:59:13.771152",
     "status": "completed"
    },
    "tags": []
   },
   "outputs": [],
   "source": [
    "model = Model()\n",
    "optimizer = optim.Adam(model.parameters(), lr = learning_rate)\n",
    "criterion = BCEWithLogitsLoss()"
   ]
  },
  {
   "cell_type": "code",
   "execution_count": 14,
   "id": "4e15e718",
   "metadata": {
    "execution": {
     "iopub.execute_input": "2021-10-09T17:59:14.015068Z",
     "iopub.status.busy": "2021-10-09T17:59:14.014371Z",
     "iopub.status.idle": "2021-10-09T17:59:14.018154Z",
     "shell.execute_reply": "2021-10-09T17:59:14.018743Z",
     "shell.execute_reply.started": "2021-10-09T17:54:24.301002Z"
    },
    "papermill": {
     "duration": 0.030746,
     "end_time": "2021-10-09T17:59:14.018914",
     "exception": false,
     "start_time": "2021-10-09T17:59:13.988168",
     "status": "completed"
    },
    "tags": []
   },
   "outputs": [
    {
     "name": "stdout",
     "output_type": "stream",
     "text": [
      "Parameters: 18955609\n",
      "--------------------------------------------\n"
     ]
    }
   ],
   "source": [
    "model_parameters = filter(lambda p: p.requires_grad, model.parameters())\n",
    "params = sum([np.prod(p.size()) for p in model_parameters])\n",
    "print(\"Parameters:\", params)\n",
    "print(\"--------------------------------------------\")"
   ]
  },
  {
   "cell_type": "code",
   "execution_count": 15,
   "id": "13cd8101",
   "metadata": {
    "execution": {
     "iopub.execute_input": "2021-10-09T17:59:14.065150Z",
     "iopub.status.busy": "2021-10-09T17:59:14.064538Z",
     "iopub.status.idle": "2021-10-09T17:59:18.256389Z",
     "shell.execute_reply": "2021-10-09T17:59:18.256804Z",
     "shell.execute_reply.started": "2021-10-09T17:54:25.008242Z"
    },
    "papermill": {
     "duration": 4.216631,
     "end_time": "2021-10-09T17:59:18.256978",
     "exception": false,
     "start_time": "2021-10-09T17:59:14.040347",
     "status": "completed"
    },
    "tags": []
   },
   "outputs": [
    {
     "name": "stdout",
     "output_type": "stream",
     "text": [
      "GPU\n"
     ]
    }
   ],
   "source": [
    "if torch.cuda.is_available():\n",
    "    print(\"GPU\")\n",
    "    device = torch.device(\"cuda\")\n",
    "    model = model.cuda()\n",
    "    criterion = criterion.cuda()\n",
    "else:\n",
    "    print(\"CPU\")\n",
    "    device = torch.device(\"cpu\")"
   ]
  },
  {
   "cell_type": "code",
   "execution_count": 16,
   "id": "5bd22f38",
   "metadata": {
    "execution": {
     "iopub.execute_input": "2021-10-09T17:59:18.302947Z",
     "iopub.status.busy": "2021-10-09T17:59:18.302451Z",
     "iopub.status.idle": "2021-10-09T17:59:18.308838Z",
     "shell.execute_reply": "2021-10-09T17:59:18.308431Z",
     "shell.execute_reply.started": "2021-10-09T17:54:25.923326Z"
    },
    "papermill": {
     "duration": 0.031155,
     "end_time": "2021-10-09T17:59:18.308943",
     "exception": false,
     "start_time": "2021-10-09T17:59:18.277788",
     "status": "completed"
    },
    "tags": []
   },
   "outputs": [],
   "source": [
    "dataset = BrainTumorDataset(train_csv_path)\n",
    "params = {\"batch_size\": batch_size, \"shuffle\": True, \"num_workers\": 0}\n",
    "data_gen = DataLoader(dataset, **params)"
   ]
  },
  {
   "cell_type": "code",
   "execution_count": 17,
   "id": "41278815",
   "metadata": {
    "execution": {
     "iopub.execute_input": "2021-10-09T17:59:18.355056Z",
     "iopub.status.busy": "2021-10-09T17:59:18.354458Z",
     "iopub.status.idle": "2021-10-09T17:59:18.359420Z",
     "shell.execute_reply": "2021-10-09T17:59:18.359793Z",
     "shell.execute_reply.started": "2021-10-09T17:54:26.930735Z"
    },
    "papermill": {
     "duration": 0.030492,
     "end_time": "2021-10-09T17:59:18.359911",
     "exception": false,
     "start_time": "2021-10-09T17:59:18.329419",
     "status": "completed"
    },
    "tags": []
   },
   "outputs": [
    {
     "name": "stdout",
     "output_type": "stream",
     "text": [
      "Model training!\n"
     ]
    }
   ],
   "source": [
    "if flag_continue == True:\n",
    "    print(\"Model loaded for further training!\")\n",
    "    checkpoint = torch.load(checkpoint_load)\n",
    "    model.load_state_dict(checkpoint[\"model_state_dict\"])\n",
    "    optimizer.load_state_dict(checkpoint[\"optimizer_state_dict\"])\n",
    "    epoch = checkpoint[\"epoch\"]\n",
    "    loss = checkpoint[\"loss\"]\n",
    "else:\n",
    "    print(\"Model training!\")\n",
    "    for p in model.parameters():\n",
    "        if p.dim() > 1:\n",
    "            xavier_uniform_(p)"
   ]
  },
  {
   "cell_type": "code",
   "execution_count": 18,
   "id": "a08eb3ba",
   "metadata": {
    "execution": {
     "iopub.execute_input": "2021-10-09T17:59:18.406907Z",
     "iopub.status.busy": "2021-10-09T17:59:18.406408Z",
     "iopub.status.idle": "2021-10-09T17:59:18.411018Z",
     "shell.execute_reply": "2021-10-09T17:59:18.411444Z",
     "shell.execute_reply.started": "2021-10-09T17:54:27.745020Z"
    },
    "papermill": {
     "duration": 0.03109,
     "end_time": "2021-10-09T17:59:18.411569",
     "exception": false,
     "start_time": "2021-10-09T17:59:18.380479",
     "status": "completed"
    },
    "tags": []
   },
   "outputs": [
    {
     "data": {
      "text/plain": [
       "Model(\n",
       "  (conv_layers): Sequential(\n",
       "    (0): Conv2d(1, 4, kernel_size=(5, 5), stride=(1, 1))\n",
       "    (1): MaxPool2d(kernel_size=2, stride=2, padding=0, dilation=1, ceil_mode=False)\n",
       "    (2): Conv2d(4, 16, kernel_size=(5, 5), stride=(1, 1))\n",
       "    (3): MaxPool2d(kernel_size=2, stride=2, padding=0, dilation=1, ceil_mode=False)\n",
       "    (4): Conv2d(16, 32, kernel_size=(5, 5), stride=(1, 1))\n",
       "    (5): MaxPool2d(kernel_size=2, stride=2, padding=0, dilation=1, ceil_mode=False)\n",
       "    (6): Flatten(start_dim=1, end_dim=-1)\n",
       "  )\n",
       "  (linear_layers): Sequential(\n",
       "    (0): Linear(in_features=18432, out_features=1024, bias=True)\n",
       "    (1): Linear(in_features=1024, out_features=64, bias=True)\n",
       "    (2): Linear(in_features=64, out_features=1, bias=True)\n",
       "  )\n",
       ")"
      ]
     },
     "execution_count": 18,
     "metadata": {},
     "output_type": "execute_result"
    }
   ],
   "source": [
    "model.train()"
   ]
  },
  {
   "cell_type": "code",
   "execution_count": 19,
   "id": "6b4df341",
   "metadata": {
    "execution": {
     "iopub.execute_input": "2021-10-09T17:59:18.464966Z",
     "iopub.status.busy": "2021-10-09T17:59:18.464384Z",
     "iopub.status.idle": "2021-10-09T18:00:26.261868Z",
     "shell.execute_reply": "2021-10-09T18:00:26.262464Z",
     "shell.execute_reply.started": "2021-10-09T17:54:28.882047Z"
    },
    "papermill": {
     "duration": 67.829967,
     "end_time": "2021-10-09T18:00:26.262661",
     "exception": false,
     "start_time": "2021-10-09T17:59:18.432694",
     "status": "completed"
    },
    "tags": []
   },
   "outputs": [
    {
     "name": "stdout",
     "output_type": "stream",
     "text": [
      "---------------------------------------------------\n",
      "Epoch: 1, Batch: 0, Batch Loss: 0.71 Batch Accuracy: 0.344\n",
      "Epoch: 1, Batch: 2, Batch Loss: 17.653 Batch Accuracy: 0.469\n",
      "Epoch: 1, Batch: 4, Batch Loss: 5.728 Batch Accuracy: 0.5\n",
      "Epoch: 1, Batch: 6, Batch Loss: 5.063 Batch Accuracy: 0.484\n",
      "Epoch: 1, Batch: 8, Batch Loss: 0.972 Batch Accuracy: 0.484\n",
      "Epoch: 1, Epoch Loss: 46.048 Epoch Accuracy: 0.514\n",
      "---------------------------------------------------\n",
      "\n",
      "Epoch: 2, Batch: 0, Batch Loss: 4.284 Batch Accuracy: 0.641\n",
      "Epoch: 2, Batch: 2, Batch Loss: 0.873 Batch Accuracy: 0.453\n",
      "Epoch: 2, Batch: 4, Batch Loss: 3.574 Batch Accuracy: 0.469\n",
      "Epoch: 2, Batch: 6, Batch Loss: 0.671 Batch Accuracy: 0.641\n",
      "Epoch: 2, Batch: 8, Batch Loss: 1.556 Batch Accuracy: 0.391\n",
      "Epoch: 2, Epoch Loss: 21.736 Epoch Accuracy: 0.526\n",
      "---------------------------------------------------\n",
      "\n",
      "Epoch: 3, Batch: 0, Batch Loss: 0.915 Batch Accuracy: 0.562\n",
      "Epoch: 3, Batch: 2, Batch Loss: 0.734 Batch Accuracy: 0.5\n",
      "Epoch: 3, Batch: 4, Batch Loss: 1.07 Batch Accuracy: 0.531\n",
      "Epoch: 3, Batch: 6, Batch Loss: 0.977 Batch Accuracy: 0.469\n",
      "Epoch: 3, Batch: 8, Batch Loss: 0.75 Batch Accuracy: 0.391\n",
      "Epoch: 3, Epoch Loss: 8.763 Epoch Accuracy: 0.49\n",
      "---------------------------------------------------\n",
      "\n",
      "Epoch: 4, Batch: 0, Batch Loss: 0.885 Batch Accuracy: 0.438\n",
      "Epoch: 4, Batch: 2, Batch Loss: 0.815 Batch Accuracy: 0.391\n",
      "Epoch: 4, Batch: 4, Batch Loss: 0.71 Batch Accuracy: 0.438\n",
      "Epoch: 4, Batch: 6, Batch Loss: 0.702 Batch Accuracy: 0.484\n",
      "Epoch: 4, Batch: 8, Batch Loss: 0.662 Batch Accuracy: 0.625\n",
      "Epoch: 4, Epoch Loss: 7.518 Epoch Accuracy: 0.471\n",
      "---------------------------------------------------\n",
      "\n",
      "Epoch: 5, Batch: 0, Batch Loss: 0.673 Batch Accuracy: 0.578\n",
      "Epoch: 5, Batch: 2, Batch Loss: 0.698 Batch Accuracy: 0.531\n",
      "Epoch: 5, Batch: 4, Batch Loss: 0.703 Batch Accuracy: 0.5\n",
      "Epoch: 5, Batch: 6, Batch Loss: 0.687 Batch Accuracy: 0.5\n",
      "Epoch: 5, Batch: 8, Batch Loss: 0.684 Batch Accuracy: 0.562\n",
      "Epoch: 5, Epoch Loss: 6.875 Epoch Accuracy: 0.543\n",
      "---------------------------------------------------\n",
      "\n",
      "Epoch: 6, Batch: 0, Batch Loss: 0.683 Batch Accuracy: 0.641\n",
      "Epoch: 6, Batch: 2, Batch Loss: 0.683 Batch Accuracy: 0.594\n",
      "Epoch: 6, Batch: 4, Batch Loss: 0.677 Batch Accuracy: 0.625\n",
      "Epoch: 6, Batch: 6, Batch Loss: 0.675 Batch Accuracy: 0.609\n",
      "Epoch: 6, Batch: 8, Batch Loss: 0.681 Batch Accuracy: 0.578\n",
      "Epoch: 6, Epoch Loss: 6.819 Epoch Accuracy: 0.595\n",
      "---------------------------------------------------\n",
      "\n",
      "Epoch: 7, Batch: 0, Batch Loss: 0.69 Batch Accuracy: 0.531\n",
      "Epoch: 7, Batch: 2, Batch Loss: 0.662 Batch Accuracy: 0.641\n",
      "Epoch: 7, Batch: 4, Batch Loss: 0.656 Batch Accuracy: 0.625\n",
      "Epoch: 7, Batch: 6, Batch Loss: 0.703 Batch Accuracy: 0.484\n",
      "Epoch: 7, Batch: 8, Batch Loss: 0.659 Batch Accuracy: 0.609\n",
      "Epoch: 7, Epoch Loss: 6.719 Epoch Accuracy: 0.593\n",
      "---------------------------------------------------\n",
      "\n",
      "Epoch: 8, Batch: 0, Batch Loss: 0.667 Batch Accuracy: 0.625\n",
      "Epoch: 8, Batch: 2, Batch Loss: 0.683 Batch Accuracy: 0.625\n",
      "Epoch: 8, Batch: 4, Batch Loss: 0.724 Batch Accuracy: 0.469\n",
      "Epoch: 8, Batch: 6, Batch Loss: 0.652 Batch Accuracy: 0.641\n",
      "Epoch: 8, Batch: 8, Batch Loss: 0.643 Batch Accuracy: 0.594\n",
      "Epoch: 8, Epoch Loss: 6.721 Epoch Accuracy: 0.579\n",
      "---------------------------------------------------\n",
      "\n",
      "Epoch: 9, Batch: 0, Batch Loss: 0.686 Batch Accuracy: 0.547\n",
      "Epoch: 9, Batch: 2, Batch Loss: 0.662 Batch Accuracy: 0.547\n",
      "Epoch: 9, Batch: 4, Batch Loss: 0.649 Batch Accuracy: 0.609\n",
      "Epoch: 9, Batch: 6, Batch Loss: 0.694 Batch Accuracy: 0.531\n",
      "Epoch: 9, Batch: 8, Batch Loss: 0.681 Batch Accuracy: 0.547\n",
      "Epoch: 9, Epoch Loss: 6.706 Epoch Accuracy: 0.578\n",
      "---------------------------------------------------\n",
      "\n",
      "Epoch: 10, Batch: 0, Batch Loss: 0.659 Batch Accuracy: 0.609\n",
      "Epoch: 10, Batch: 2, Batch Loss: 0.643 Batch Accuracy: 0.609\n",
      "Epoch: 10, Batch: 4, Batch Loss: 0.705 Batch Accuracy: 0.516\n",
      "Epoch: 10, Batch: 6, Batch Loss: 0.703 Batch Accuracy: 0.547\n",
      "Epoch: 10, Batch: 8, Batch Loss: 0.647 Batch Accuracy: 0.656\n",
      "Epoch: 10, Epoch Loss: 6.569 Epoch Accuracy: 0.609\n",
      "---------------------------------------------------\n",
      "\n",
      "Epoch: 11, Batch: 0, Batch Loss: 0.663 Batch Accuracy: 0.578\n",
      "Epoch: 11, Batch: 2, Batch Loss: 0.672 Batch Accuracy: 0.594\n",
      "Epoch: 11, Batch: 4, Batch Loss: 0.691 Batch Accuracy: 0.547\n",
      "Epoch: 11, Batch: 6, Batch Loss: 0.647 Batch Accuracy: 0.672\n",
      "Epoch: 11, Batch: 8, Batch Loss: 0.618 Batch Accuracy: 0.734\n",
      "Epoch: 11, Epoch Loss: 6.434 Epoch Accuracy: 0.659\n",
      "---------------------------------------------------\n",
      "\n",
      "Epoch: 12, Batch: 0, Batch Loss: 0.649 Batch Accuracy: 0.625\n",
      "Epoch: 12, Batch: 2, Batch Loss: 0.656 Batch Accuracy: 0.578\n",
      "Epoch: 12, Batch: 4, Batch Loss: 0.641 Batch Accuracy: 0.609\n",
      "Epoch: 12, Batch: 6, Batch Loss: 0.583 Batch Accuracy: 0.734\n",
      "Epoch: 12, Batch: 8, Batch Loss: 0.684 Batch Accuracy: 0.5\n",
      "Epoch: 12, Epoch Loss: 6.398 Epoch Accuracy: 0.641\n",
      "---------------------------------------------------\n",
      "\n",
      "Epoch: 13, Batch: 0, Batch Loss: 0.657 Batch Accuracy: 0.594\n",
      "Epoch: 13, Batch: 2, Batch Loss: 0.627 Batch Accuracy: 0.625\n",
      "Epoch: 13, Batch: 4, Batch Loss: 0.637 Batch Accuracy: 0.625\n",
      "Epoch: 13, Batch: 6, Batch Loss: 0.638 Batch Accuracy: 0.625\n",
      "Epoch: 13, Batch: 8, Batch Loss: 0.666 Batch Accuracy: 0.609\n",
      "Epoch: 13, Epoch Loss: 6.297 Epoch Accuracy: 0.624\n",
      "---------------------------------------------------\n",
      "\n",
      "Epoch: 14, Batch: 0, Batch Loss: 0.623 Batch Accuracy: 0.625\n",
      "Epoch: 14, Batch: 2, Batch Loss: 0.586 Batch Accuracy: 0.75\n",
      "Epoch: 14, Batch: 4, Batch Loss: 0.622 Batch Accuracy: 0.625\n",
      "Epoch: 14, Batch: 6, Batch Loss: 0.663 Batch Accuracy: 0.625\n",
      "Epoch: 14, Batch: 8, Batch Loss: 0.605 Batch Accuracy: 0.672\n",
      "Epoch: 14, Epoch Loss: 5.895 Epoch Accuracy: 0.684\n",
      "---------------------------------------------------\n",
      "\n",
      "Epoch: 15, Batch: 0, Batch Loss: 0.561 Batch Accuracy: 0.719\n",
      "Epoch: 15, Batch: 2, Batch Loss: 0.624 Batch Accuracy: 0.656\n",
      "Epoch: 15, Batch: 4, Batch Loss: 0.585 Batch Accuracy: 0.688\n",
      "Epoch: 15, Batch: 6, Batch Loss: 0.529 Batch Accuracy: 0.766\n",
      "Epoch: 15, Batch: 8, Batch Loss: 0.629 Batch Accuracy: 0.609\n",
      "Epoch: 15, Epoch Loss: 5.903 Epoch Accuracy: 0.685\n",
      "---------------------------------------------------\n",
      "\n",
      "Epoch: 16, Batch: 0, Batch Loss: 0.585 Batch Accuracy: 0.641\n",
      "Epoch: 16, Batch: 2, Batch Loss: 0.578 Batch Accuracy: 0.641\n",
      "Epoch: 16, Batch: 4, Batch Loss: 0.586 Batch Accuracy: 0.672\n",
      "Epoch: 16, Batch: 6, Batch Loss: 0.612 Batch Accuracy: 0.641\n",
      "Epoch: 16, Batch: 8, Batch Loss: 0.583 Batch Accuracy: 0.688\n",
      "Epoch: 16, Epoch Loss: 6.091 Epoch Accuracy: 0.627\n",
      "---------------------------------------------------\n",
      "\n",
      "Epoch: 17, Batch: 0, Batch Loss: 0.597 Batch Accuracy: 0.719\n",
      "Epoch: 17, Batch: 2, Batch Loss: 0.702 Batch Accuracy: 0.547\n",
      "Epoch: 17, Batch: 4, Batch Loss: 0.527 Batch Accuracy: 0.828\n",
      "Epoch: 17, Batch: 6, Batch Loss: 0.525 Batch Accuracy: 0.766\n",
      "Epoch: 17, Batch: 8, Batch Loss: 0.58 Batch Accuracy: 0.672\n",
      "Epoch: 17, Epoch Loss: 5.868 Epoch Accuracy: 0.693\n",
      "---------------------------------------------------\n",
      "\n",
      "Epoch: 18, Batch: 0, Batch Loss: 0.523 Batch Accuracy: 0.812\n",
      "Epoch: 18, Batch: 2, Batch Loss: 0.607 Batch Accuracy: 0.719\n",
      "Epoch: 18, Batch: 4, Batch Loss: 0.584 Batch Accuracy: 0.703\n",
      "Epoch: 18, Batch: 6, Batch Loss: 0.513 Batch Accuracy: 0.766\n",
      "Epoch: 18, Batch: 8, Batch Loss: 0.48 Batch Accuracy: 0.812\n",
      "Epoch: 18, Epoch Loss: 5.372 Epoch Accuracy: 0.737\n",
      "---------------------------------------------------\n",
      "\n",
      "Epoch: 19, Batch: 0, Batch Loss: 0.448 Batch Accuracy: 0.812\n",
      "Epoch: 19, Batch: 2, Batch Loss: 0.518 Batch Accuracy: 0.781\n",
      "Epoch: 19, Batch: 4, Batch Loss: 0.532 Batch Accuracy: 0.766\n",
      "Epoch: 19, Batch: 6, Batch Loss: 0.451 Batch Accuracy: 0.859\n",
      "Epoch: 19, Batch: 8, Batch Loss: 0.48 Batch Accuracy: 0.875\n",
      "Epoch: 19, Epoch Loss: 4.965 Epoch Accuracy: 0.792\n",
      "---------------------------------------------------\n",
      "\n",
      "Epoch: 20, Batch: 0, Batch Loss: 0.477 Batch Accuracy: 0.828\n",
      "Epoch: 20, Batch: 2, Batch Loss: 0.415 Batch Accuracy: 0.875\n",
      "Epoch: 20, Batch: 4, Batch Loss: 0.455 Batch Accuracy: 0.828\n",
      "Epoch: 20, Batch: 6, Batch Loss: 0.408 Batch Accuracy: 0.844\n",
      "Epoch: 20, Batch: 8, Batch Loss: 0.489 Batch Accuracy: 0.797\n",
      "Epoch: 20, Epoch Loss: 4.221 Epoch Accuracy: 0.861\n",
      "---------------------------------------------------\n",
      "\n"
     ]
    }
   ],
   "source": [
    "print('---------------------------------------------------')\n",
    "for epoch in range(start_epoch, end_epoch + 1):\n",
    "    epoch_loss = 0.0\n",
    "    epoch_accuracy = []\n",
    "    for batch_idx, generator_values in enumerate(data_gen):\n",
    "        x = generator_values[0]\n",
    "        target = generator_values[1]\n",
    "        x = x.to(device)\n",
    "        target = target.to(device)\n",
    "        optimizer.zero_grad()\n",
    "        y_hat = model(x)\n",
    "        loss = criterion(y_hat, target)\n",
    "        loss.backward()\n",
    "        optimizer.step()\n",
    "        y_hat = Sigmoid()(y_hat)\n",
    "        y_pred = (y_hat > threshold).float()\n",
    "        y_pred = y_pred.detach().cpu().numpy()\n",
    "        target = target.detach().cpu().numpy()\n",
    "        batch_accuracy = accuracy_score(target, y_pred)\n",
    "        batch_loss = loss.item()\n",
    "        epoch_loss = epoch_loss + batch_loss\n",
    "        batch_accuracy = round(batch_accuracy, 3)\n",
    "        batch_loss = round(batch_loss, 3)\n",
    "        epoch_accuracy.append(batch_accuracy)\n",
    "        torch.cuda.empty_cache()\n",
    "        del x, target\n",
    "        del y_hat, y_pred\n",
    "        if batch_idx % 2 == 0:\n",
    "            print(\"Epoch: {}, Batch: {}, Batch Loss: {} Batch Accuracy: {}\".format(epoch, batch_idx, batch_loss, batch_accuracy))\n",
    "    epoch_accuracy = sum(epoch_accuracy) / len(epoch_accuracy)\n",
    "    epoch_accuracy = round(epoch_accuracy, 3)\n",
    "    epoch_loss = round(epoch_loss, 3)\n",
    "    print(\"Epoch: {}, Epoch Loss: {} Epoch Accuracy: {}\".format(epoch, epoch_loss, epoch_accuracy))\n",
    "    torch.save({\"epoch\": epoch,\"model_state_dict\": model.state_dict(),\n",
    "              \"optimizer_state_dict\": optimizer.state_dict(),\n",
    "              \"loss\": epoch_loss,\n",
    "          },\n",
    "          checkpoint_path)\n",
    "    print('---------------------------------------------------\\n')"
   ]
  },
  {
   "cell_type": "code",
   "execution_count": 20,
   "id": "6d298cdb",
   "metadata": {
    "execution": {
     "iopub.execute_input": "2021-10-09T18:00:26.371629Z",
     "iopub.status.busy": "2021-10-09T18:00:26.370371Z",
     "iopub.status.idle": "2021-10-09T18:00:26.372695Z",
     "shell.execute_reply": "2021-10-09T18:00:26.373066Z",
     "shell.execute_reply.started": "2021-10-09T17:56:35.087047Z"
    },
    "papermill": {
     "duration": 0.059172,
     "end_time": "2021-10-09T18:00:26.373211",
     "exception": false,
     "start_time": "2021-10-09T18:00:26.314039",
     "status": "completed"
    },
    "tags": []
   },
   "outputs": [],
   "source": [
    "class BrainTumorPredictionDataset(Dataset):\n",
    "    def __init__(self, csv_path):\n",
    "        self.dataframe = pd.read_csv(csv_path)\n",
    "        self.transform = transforms.Compose([transforms.ToTensor()])\n",
    "    def __len__(self):\n",
    "        return self.dataframe.shape[0]\n",
    "    def __getitem__(self, idx):\n",
    "        file_id = self.dataframe.iloc[idx]['BraTS21ID']\n",
    "        path = self.dataframe.iloc[idx]['image']\n",
    "        image = Image.open(path)\n",
    "        image = image.resize((224, 224))\n",
    "        image = self.transform(image)\n",
    "        label = torch.FloatTensor([self.dataframe.iloc[idx]['target']])\n",
    "        return file_id, image, label"
   ]
  },
  {
   "cell_type": "code",
   "execution_count": 21,
   "id": "c59d1900",
   "metadata": {
    "execution": {
     "iopub.execute_input": "2021-10-09T18:00:27.813228Z",
     "iopub.status.busy": "2021-10-09T18:00:27.812672Z",
     "iopub.status.idle": "2021-10-09T18:00:27.829300Z",
     "shell.execute_reply": "2021-10-09T18:00:27.829675Z",
     "shell.execute_reply.started": "2021-10-09T17:56:35.923042Z"
    },
    "papermill": {
     "duration": 1.406442,
     "end_time": "2021-10-09T18:00:27.829813",
     "exception": false,
     "start_time": "2021-10-09T18:00:26.423371",
     "status": "completed"
    },
    "tags": []
   },
   "outputs": [],
   "source": [
    "test_csv_path = '../input/rsna-miccai-brain-tumor-radiogenomic-classification/sample_submission.csv'\n",
    "df = pd.read_csv(test_csv_path)\n",
    "csv_path = './test.csv'\n",
    "create_dataframe(df, csv_path, data_type = 'test')\n",
    "test_csv_path = csv_path"
   ]
  },
  {
   "cell_type": "code",
   "execution_count": 22,
   "id": "00ad7e95",
   "metadata": {
    "execution": {
     "iopub.execute_input": "2021-10-09T18:00:27.937908Z",
     "iopub.status.busy": "2021-10-09T18:00:27.937035Z",
     "iopub.status.idle": "2021-10-09T18:00:27.942803Z",
     "shell.execute_reply": "2021-10-09T18:00:27.942361Z",
     "shell.execute_reply.started": "2021-10-09T17:56:36.514596Z"
    },
    "papermill": {
     "duration": 0.060732,
     "end_time": "2021-10-09T18:00:27.942912",
     "exception": false,
     "start_time": "2021-10-09T18:00:27.882180",
     "status": "completed"
    },
    "tags": []
   },
   "outputs": [],
   "source": [
    "dataset = BrainTumorPredictionDataset(test_csv_path)\n",
    "params = {\"batch_size\": 1, \"shuffle\": False, \"num_workers\": 0}\n",
    "data_gen = DataLoader(dataset, **params)"
   ]
  },
  {
   "cell_type": "code",
   "execution_count": 23,
   "id": "5dcbb4b4",
   "metadata": {
    "execution": {
     "iopub.execute_input": "2021-10-09T18:00:28.049223Z",
     "iopub.status.busy": "2021-10-09T18:00:28.048410Z",
     "iopub.status.idle": "2021-10-09T18:00:28.190841Z",
     "shell.execute_reply": "2021-10-09T18:00:28.191286Z",
     "shell.execute_reply.started": "2021-10-09T17:56:37.411328Z"
    },
    "papermill": {
     "duration": 0.197894,
     "end_time": "2021-10-09T18:00:28.191450",
     "exception": false,
     "start_time": "2021-10-09T18:00:27.993556",
     "status": "completed"
    },
    "tags": []
   },
   "outputs": [],
   "source": [
    "model = Model()\n",
    "optimizer = optim.Adam(model.parameters(), lr = learning_rate)"
   ]
  },
  {
   "cell_type": "code",
   "execution_count": 24,
   "id": "58f3aa1f",
   "metadata": {
    "execution": {
     "iopub.execute_input": "2021-10-09T18:00:28.297738Z",
     "iopub.status.busy": "2021-10-09T18:00:28.296611Z",
     "iopub.status.idle": "2021-10-09T18:00:28.320465Z",
     "shell.execute_reply": "2021-10-09T18:00:28.319871Z",
     "shell.execute_reply.started": "2021-10-09T17:56:38.218091Z"
    },
    "papermill": {
     "duration": 0.078937,
     "end_time": "2021-10-09T18:00:28.320611",
     "exception": false,
     "start_time": "2021-10-09T18:00:28.241674",
     "status": "completed"
    },
    "tags": []
   },
   "outputs": [
    {
     "name": "stdout",
     "output_type": "stream",
     "text": [
      "GPU\n"
     ]
    }
   ],
   "source": [
    "if torch.cuda.is_available():\n",
    "    print(\"GPU\")\n",
    "    device = torch.device(\"cuda\")\n",
    "    model = model.cuda()\n",
    "else:\n",
    "    print(\"CPU\")\n",
    "    device = torch.device(\"cpu\")"
   ]
  },
  {
   "cell_type": "code",
   "execution_count": 25,
   "id": "0f4a03b7",
   "metadata": {
    "execution": {
     "iopub.execute_input": "2021-10-09T18:00:28.425495Z",
     "iopub.status.busy": "2021-10-09T18:00:28.424954Z",
     "iopub.status.idle": "2021-10-09T18:00:28.609273Z",
     "shell.execute_reply": "2021-10-09T18:00:28.609706Z",
     "shell.execute_reply.started": "2021-10-09T17:56:39.180916Z"
    },
    "papermill": {
     "duration": 0.238529,
     "end_time": "2021-10-09T18:00:28.609858",
     "exception": false,
     "start_time": "2021-10-09T18:00:28.371329",
     "status": "completed"
    },
    "tags": []
   },
   "outputs": [
    {
     "data": {
      "text/plain": [
       "Model(\n",
       "  (conv_layers): Sequential(\n",
       "    (0): Conv2d(1, 4, kernel_size=(5, 5), stride=(1, 1))\n",
       "    (1): MaxPool2d(kernel_size=2, stride=2, padding=0, dilation=1, ceil_mode=False)\n",
       "    (2): Conv2d(4, 16, kernel_size=(5, 5), stride=(1, 1))\n",
       "    (3): MaxPool2d(kernel_size=2, stride=2, padding=0, dilation=1, ceil_mode=False)\n",
       "    (4): Conv2d(16, 32, kernel_size=(5, 5), stride=(1, 1))\n",
       "    (5): MaxPool2d(kernel_size=2, stride=2, padding=0, dilation=1, ceil_mode=False)\n",
       "    (6): Flatten(start_dim=1, end_dim=-1)\n",
       "  )\n",
       "  (linear_layers): Sequential(\n",
       "    (0): Linear(in_features=18432, out_features=1024, bias=True)\n",
       "    (1): Linear(in_features=1024, out_features=64, bias=True)\n",
       "    (2): Linear(in_features=64, out_features=1, bias=True)\n",
       "  )\n",
       ")"
      ]
     },
     "execution_count": 25,
     "metadata": {},
     "output_type": "execute_result"
    }
   ],
   "source": [
    "checkpoint = torch.load(checkpoint_load)\n",
    "model.load_state_dict(checkpoint[\"model_state_dict\"])\n",
    "optimizer.load_state_dict(checkpoint[\"optimizer_state_dict\"])\n",
    "epoch = checkpoint[\"epoch\"]\n",
    "loss = checkpoint[\"loss\"]\n",
    "model.eval()"
   ]
  },
  {
   "cell_type": "code",
   "execution_count": 26,
   "id": "c3b71ffd",
   "metadata": {
    "execution": {
     "iopub.execute_input": "2021-10-09T18:00:28.719053Z",
     "iopub.status.busy": "2021-10-09T18:00:28.718401Z",
     "iopub.status.idle": "2021-10-09T18:00:29.106548Z",
     "shell.execute_reply": "2021-10-09T18:00:29.107194Z",
     "shell.execute_reply.started": "2021-10-09T17:56:45.535564Z"
    },
    "papermill": {
     "duration": 0.44689,
     "end_time": "2021-10-09T18:00:29.107384",
     "exception": false,
     "start_time": "2021-10-09T18:00:28.660494",
     "status": "completed"
    },
    "tags": []
   },
   "outputs": [
    {
     "name": "stderr",
     "output_type": "stream",
     "text": [
      "87it [00:00, 229.12it/s]\n"
     ]
    }
   ],
   "source": [
    "image_id_list = []\n",
    "predictions = []\n",
    "for batch_idx, generator_values in tqdm(enumerate(data_gen)):\n",
    "    image_id = generator_values[0].item()\n",
    "    image_id = '0' * (5 - len(str(image_id))) + str(image_id) \n",
    "    x = generator_values[1]\n",
    "    x = x.to(device)\n",
    "    y_hat = model(x)\n",
    "    y_hat = Sigmoid()(y_hat)\n",
    "    y_pred = (y_hat > threshold).float()\n",
    "    y_pred = y_pred.detach().cpu().numpy()\n",
    "    y_pred = int(y_pred[0][0])\n",
    "    image_id_list.append(image_id)\n",
    "    predictions.append(y_pred)\n",
    "    del x, image_id\n",
    "    del y_hat, y_pred"
   ]
  },
  {
   "cell_type": "code",
   "execution_count": 27,
   "id": "2ad65e23",
   "metadata": {
    "execution": {
     "iopub.execute_input": "2021-10-09T18:00:29.218223Z",
     "iopub.status.busy": "2021-10-09T18:00:29.217694Z",
     "iopub.status.idle": "2021-10-09T18:00:30.617341Z",
     "shell.execute_reply": "2021-10-09T18:00:30.616314Z",
     "shell.execute_reply.started": "2021-10-09T17:56:47.539409Z"
    },
    "papermill": {
     "duration": 1.455853,
     "end_time": "2021-10-09T18:00:30.617506",
     "exception": false,
     "start_time": "2021-10-09T18:00:29.161653",
     "status": "completed"
    },
    "tags": []
   },
   "outputs": [],
   "source": [
    "! zip -r './FLAIR_train.zip' './train/FLAIR' > /dev/null\n",
    "! zip -r './FLAIR_test.zip' './test/FLAIR' > /dev/null"
   ]
  },
  {
   "cell_type": "code",
   "execution_count": 28,
   "id": "1a9ca840",
   "metadata": {
    "execution": {
     "iopub.execute_input": "2021-10-09T18:00:30.731946Z",
     "iopub.status.busy": "2021-10-09T18:00:30.731085Z",
     "iopub.status.idle": "2021-10-09T18:00:30.733886Z",
     "shell.execute_reply": "2021-10-09T18:00:30.733486Z",
     "shell.execute_reply.started": "2021-10-09T17:56:51.664501Z"
    },
    "papermill": {
     "duration": 0.062962,
     "end_time": "2021-10-09T18:00:30.733997",
     "exception": false,
     "start_time": "2021-10-09T18:00:30.671035",
     "status": "completed"
    },
    "tags": []
   },
   "outputs": [],
   "source": [
    "submission = pd.DataFrame()\n",
    "submission['BraTS21ID'] = image_id_list\n",
    "submission['MGMT_value'] = predictions"
   ]
  },
  {
   "cell_type": "code",
   "execution_count": 29,
   "id": "d3dfca4d",
   "metadata": {
    "execution": {
     "iopub.execute_input": "2021-10-09T18:00:30.844674Z",
     "iopub.status.busy": "2021-10-09T18:00:30.843759Z",
     "iopub.status.idle": "2021-10-09T18:00:30.848219Z",
     "shell.execute_reply": "2021-10-09T18:00:30.847776Z",
     "shell.execute_reply.started": "2021-10-09T17:46:00.816573Z"
    },
    "papermill": {
     "duration": 0.061268,
     "end_time": "2021-10-09T18:00:30.848339",
     "exception": false,
     "start_time": "2021-10-09T18:00:30.787071",
     "status": "completed"
    },
    "tags": []
   },
   "outputs": [],
   "source": [
    "submission.to_csv('./submission.csv', index = False)"
   ]
  }
 ],
 "metadata": {
  "kernelspec": {
   "display_name": "Python 3",
   "language": "python",
   "name": "python3"
  },
  "language_info": {
   "codemirror_mode": {
    "name": "ipython",
    "version": 3
   },
   "file_extension": ".py",
   "mimetype": "text/x-python",
   "name": "python",
   "nbconvert_exporter": "python",
   "pygments_lexer": "ipython3",
   "version": "3.7.10"
  },
  "papermill": {
   "default_parameters": {},
   "duration": 185.789485,
   "end_time": "2021-10-09T18:00:32.260802",
   "environment_variables": {},
   "exception": null,
   "input_path": "__notebook__.ipynb",
   "output_path": "__notebook__.ipynb",
   "parameters": {},
   "start_time": "2021-10-09T17:57:26.471317",
   "version": "2.3.3"
  }
 },
 "nbformat": 4,
 "nbformat_minor": 5
}
